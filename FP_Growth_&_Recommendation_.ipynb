{
  "nbformat": 4,
  "nbformat_minor": 0,
  "metadata": {
    "kernelspec": {
      "display_name": "Python 3",
      "language": "python",
      "name": "python3"
    },
    "language_info": {
      "codemirror_mode": {
        "name": "ipython",
        "version": 3
      },
      "file_extension": ".py",
      "mimetype": "text/x-python",
      "name": "python",
      "nbconvert_exporter": "python",
      "pygments_lexer": "ipython3",
      "version": "3.8.5"
    },
    "colab": {
      "name": "FP-Growth & Recommendation .ipynb",
      "provenance": [],
      "collapsed_sections": [],
      "machine_shape": "hm"
    }
  },
  "cells": [
    {
      "cell_type": "markdown",
      "metadata": {
        "id": "49PVNH5lZLal"
      },
      "source": [
        "## FP Growth"
      ]
    },
    {
      "cell_type": "markdown",
      "metadata": {
        "id": "gTwDzAhsZLap"
      },
      "source": [
        "### Loading Libraries"
      ]
    },
    {
      "cell_type": "code",
      "metadata": {
        "id": "yEcjlRf8ZLaq"
      },
      "source": [
        "import pandas as pd\n",
        "import numpy as np\n",
        "import pyspark\n",
        "from pyspark.sql import *\n",
        "from pyspark.sql.functions import *\n",
        "from pyspark import SparkContext,SparkConf\n",
        "from pyspark.sql.functions import collect_set, col, count\n",
        "from pyspark.ml.fpm import FPGrowth\n",
        "from pyspark.sql.session import SparkSession"
      ],
      "execution_count": 2,
      "outputs": []
    },
    {
      "cell_type": "code",
      "metadata": {
        "colab": {
          "base_uri": "https://localhost:8080/"
        },
        "id": "Li9d7aO6Zz8c",
        "outputId": "472e8ffd-4ad4-477f-ff56-f03625ecabdb"
      },
      "source": [
        "!pip3 install pyspark"
      ],
      "execution_count": 1,
      "outputs": [
        {
          "output_type": "stream",
          "name": "stdout",
          "text": [
            "Collecting pyspark\n",
            "  Downloading pyspark-3.1.2.tar.gz (212.4 MB)\n",
            "\u001b[K     |████████████████████████████████| 212.4 MB 34 kB/s \n",
            "\u001b[?25hCollecting py4j==0.10.9\n",
            "  Downloading py4j-0.10.9-py2.py3-none-any.whl (198 kB)\n",
            "\u001b[K     |████████████████████████████████| 198 kB 55.3 MB/s \n",
            "\u001b[?25hBuilding wheels for collected packages: pyspark\n",
            "  Building wheel for pyspark (setup.py) ... \u001b[?25l\u001b[?25hdone\n",
            "  Created wheel for pyspark: filename=pyspark-3.1.2-py2.py3-none-any.whl size=212880768 sha256=68d00476751a05bf620ef27e226670ea4b551ab18511fe8c67e2f164f44e5666\n",
            "  Stored in directory: /root/.cache/pip/wheels/a5/0a/c1/9561f6fecb759579a7d863dcd846daaa95f598744e71b02c77\n",
            "Successfully built pyspark\n",
            "Installing collected packages: py4j, pyspark\n",
            "Successfully installed py4j-0.10.9 pyspark-3.1.2\n"
          ]
        }
      ]
    },
    {
      "cell_type": "code",
      "metadata": {
        "colab": {
          "base_uri": "https://localhost:8080/"
        },
        "id": "lFo2GQRMZOvL",
        "outputId": "1d9676a3-e025-46b0-b49e-23271de75de6"
      },
      "source": [
        "from google.colab import drive\n",
        "drive.mount('/content/drive')"
      ],
      "execution_count": 3,
      "outputs": [
        {
          "output_type": "stream",
          "name": "stdout",
          "text": [
            "Mounted at /content/drive\n"
          ]
        }
      ]
    },
    {
      "cell_type": "code",
      "metadata": {
        "id": "6D_44aHNZLar"
      },
      "source": [
        "pd.set_option('display.max_rows', None)\n",
        "pd.set_option('display.max_columns', None)\n",
        "pd.set_option('display.width', None)\n",
        "pd.set_option('display.max_colwidth', None)"
      ],
      "execution_count": 4,
      "outputs": []
    },
    {
      "cell_type": "markdown",
      "metadata": {
        "id": "IXt4HPTcZLar"
      },
      "source": [
        "### Define SparkSession"
      ]
    },
    {
      "cell_type": "code",
      "metadata": {
        "id": "aBULYe8tZLas"
      },
      "source": [
        "sc=SparkContext('local')\n",
        "spark=SparkSession(sc)"
      ],
      "execution_count": 5,
      "outputs": []
    },
    {
      "cell_type": "markdown",
      "metadata": {
        "id": "lii5VwzkZLas"
      },
      "source": [
        "### Creating Dataframes"
      ]
    },
    {
      "cell_type": "code",
      "metadata": {
        "id": "FiwLMbdTZLat"
      },
      "source": [
        "# Import Data\n",
        "als = spark.read.csv(\"/content/drive/MyDrive/Dissertation /aisles.csv\", header=True, inferSchema=True)\n",
        "depts = spark.read.csv(\"/content/drive/MyDrive/Dissertation /departments.csv\", header=True, inferSchema=True)\n",
        "OrdProdPr = spark.read.csv(\"/content/drive/MyDrive/Dissertation /order_products__prior.csv\", header=True, inferSchema=True)\n",
        "OrdProdTr = spark.read.csv(\"/content/drive/MyDrive/Dissertation /order_products__train.csv\", header=True, inferSchema=True)\n",
        "ords = spark.read.csv(\"/content/drive/MyDrive/Dissertation /orders.csv\", header=True, inferSchema=True)\n",
        "prds = spark.read.csv(\"/content/drive/MyDrive/Dissertation /products.csv\", header=True, inferSchema=True)\n",
        "\n",
        "# Create Temporary Tables\n",
        "als.createOrReplaceTempView(\"als\")\n",
        "depts.createOrReplaceTempView(\"depts\")\n",
        "OrdProdPr.createOrReplaceTempView(\"OrdProdPr\")\n",
        "OrdProdTr.createOrReplaceTempView(\"OrdProdTr\")\n",
        "ords.createOrReplaceTempView(\"ords\")\n",
        "prds.createOrReplaceTempView(\"prds\")"
      ],
      "execution_count": 6,
      "outputs": []
    },
    {
      "cell_type": "markdown",
      "metadata": {
        "id": "BMYVqM3rZLat"
      },
      "source": [
        "### Creating a Basket dataframe before training a model or algorithm"
      ]
    },
    {
      "cell_type": "code",
      "metadata": {
        "colab": {
          "base_uri": "https://localhost:8080/",
          "height": 580
        },
        "id": "YXMXAHYmZLau",
        "outputId": "aa685718-fcea-4b89-c223-eac448ecdec6"
      },
      "source": [
        "'''\n",
        "    create basket df contains order id and the items in it\n",
        "'''\n",
        "d=spark.sql(\"select p.product_name, o.order_id from prds p inner join OrdProdTr o where o.product_id = p.product_id\")\n",
        "cart=d.groupBy('order_id').agg(collect_set('product_name').alias('products'))\n",
        "cart.createOrReplaceTempView('cart')\n",
        "cart_pd = cart.toPandas()\n",
        "cart_pd.head(10)"
      ],
      "execution_count": 9,
      "outputs": [
        {
          "output_type": "execute_result",
          "data": {
            "text/html": [
              "<div>\n",
              "<style scoped>\n",
              "    .dataframe tbody tr th:only-of-type {\n",
              "        vertical-align: middle;\n",
              "    }\n",
              "\n",
              "    .dataframe tbody tr th {\n",
              "        vertical-align: top;\n",
              "    }\n",
              "\n",
              "    .dataframe thead th {\n",
              "        text-align: right;\n",
              "    }\n",
              "</style>\n",
              "<table border=\"1\" class=\"dataframe\">\n",
              "  <thead>\n",
              "    <tr style=\"text-align: right;\">\n",
              "      <th></th>\n",
              "      <th>order_id</th>\n",
              "      <th>products</th>\n",
              "    </tr>\n",
              "  </thead>\n",
              "  <tbody>\n",
              "    <tr>\n",
              "      <th>0</th>\n",
              "      <td>1342</td>\n",
              "      <td>[Raw Shrimp, Seedless Cucumbers, Versatile Stain Remover, Organic Strawberries, Organic Mandarins, Chicken Apple Sausage, Pink Lady Apples, Bag of Organic Bananas]</td>\n",
              "    </tr>\n",
              "    <tr>\n",
              "      <th>1</th>\n",
              "      <td>1591</td>\n",
              "      <td>[Cracked Wheat, Strawberry Rhubarb Yoghurt, Organic Bunny Fruit Snacks Berry Patch, Goodness Grapeness Organic Juice Drink, Honey Graham Snacks, Spinach, Granny Smith Apples, Oven Roasted Turkey Breast, Pure Vanilla Extract, Chewy 25% Low Sugar Chocolate Chip Granola, Banana, Original Turkey Burgers Smoke Flavor Added, Twisted Tropical Tango Organic Juice Drink, Navel Oranges, Lower Sugar Instant Oatmeal  Variety, Ultra Thin Sliced Provolone Cheese, Natural Vanilla Ice Cream, Cinnamon Multigrain Cereal, Garlic, Goldfish Pretzel Baked Snack Crackers, Original Whole Grain Chips, Medium Scarlet Raspberries, Lemon Yogurt, Original Patties (100965) 12 Oz Breakfast, Nutty Bars, Strawberry Banana Smoothie, Green Machine Juice Smoothie, Coconut Dreams Cookies, Buttermilk Waffles, Uncured Genoa Salami, Organic Greek Whole Milk Blended Vanilla Bean Yogurt]</td>\n",
              "    </tr>\n",
              "    <tr>\n",
              "      <th>2</th>\n",
              "      <td>4519</td>\n",
              "      <td>[Beet Apple Carrot Lemon Ginger Organic Cold Pressed Juice Beverage]</td>\n",
              "    </tr>\n",
              "    <tr>\n",
              "      <th>3</th>\n",
              "      <td>4935</td>\n",
              "      <td>[Vodka]</td>\n",
              "    </tr>\n",
              "    <tr>\n",
              "      <th>4</th>\n",
              "      <td>6357</td>\n",
              "      <td>[Globe Eggplant, Panko Bread Crumbs, Fresh Mozzarella Ball, Grated Parmesan, Gala Apples, Italian Pasta Sauce Basilico Tomato, Basil &amp; Garlic, Organic Basil, Banana, Provolone]</td>\n",
              "    </tr>\n",
              "    <tr>\n",
              "      <th>5</th>\n",
              "      <td>10362</td>\n",
              "      <td>[Organic Baby Spinach, Organic Spring Mix, Organic Leek, Slow Roasted Lightly Seasoned Chick'n, Organic Basil, Organic Shredded Mild Cheddar, Bag of Organic Bananas, Sliced Baby Bella Mushrooms, Organic Tapioca Flour, Organic Gala Apples, Lemons, Limes, Pitted Dates, Jalapeno Peppers, Original Tofurky Deli Slices, Organic Red Bell Pepper, Organic Shredded Carrots, Roma Tomato, Crinkle Cut French Fries, Large Greenhouse Tomato, Organic Pinto Beans, Organic Three Grain Tempeh, Organic Garnet Sweet Potato (Yam), Organic Coconut Milk, Organic Extra Firm Tofu, Ground Sausage Style Veggie Protein, Extra Virgin Olive Oil, Hass Avocados, Multigrain Tortilla Chips, The Ultimate Beefless Burger, Yellow Bell Pepper, Coconut Flour, Light Brown Sugar, Organic Harissa Seasoning, Crushed Garlic, Organic Whole Cashews]</td>\n",
              "    </tr>\n",
              "    <tr>\n",
              "      <th>6</th>\n",
              "      <td>19204</td>\n",
              "      <td>[Reduced Fat Crackers, Dishwasher Cleaner, Peanut Powder, Disinfecting Wipes Lemon &amp; Fresh Scent, Lemon Lime Thirst Quencher, Fat Free &amp; Lower Sodium Chicken Broth, American Blend Salad, Cinnamon Cereal, Extra Nasal Strips, Reduced Fat Creamy Peanut Butter Spread, Mozzarella String Cheese Sticks, Light Low-Moisture Part Skim, Electrolyte Enhanced Water, Original Petroleum Jelly, High Efficiency Complete Dual Formula]</td>\n",
              "    </tr>\n",
              "    <tr>\n",
              "      <th>7</th>\n",
              "      <td>29601</td>\n",
              "      <td>[Organic Red Onion, Small Batch Authentic Taqueria Tortilla Chips, Hummus, Hope, Original Recipe, Unsweetened Whole Milk Peach Greek Yogurt, Toasted Coconut Almondmilk Blend, Skillet Refried Red Beans Sautéed With Onion &amp; Tomatillo, Almondmilk, Pure, Chocolate Protein, Organic Greek Lowfat Yogurt With Strawberries, Bag of Organic Bananas, California Orange Juice, Mini Whole Wheat Pita Bread, Coconut Almond Creamer Blend, Banana Chia Pod, Tomatillo Salsa, SALSA        FRNTR CHPTL SALSA, Guacamole, Water]</td>\n",
              "    </tr>\n",
              "    <tr>\n",
              "      <th>8</th>\n",
              "      <td>31035</td>\n",
              "      <td>[Organic Cripps Pink Apples, Organic Golden Delicious Apple, Organic Navel Orange, Bag of Organic Bananas]</td>\n",
              "    </tr>\n",
              "    <tr>\n",
              "      <th>9</th>\n",
              "      <td>40011</td>\n",
              "      <td>[Organic Baby Spinach, Organic Blues Bread with Blue Cornmeal Crust, Sea Salt Macadamias, Natural Calm Magnesium Supplement Raspberry Lemon Flavor Powder, Chocolate Coconut Protein Bar, Sport Chocolate Mint Protein Bar]</td>\n",
              "    </tr>\n",
              "  </tbody>\n",
              "</table>\n",
              "</div>"
            ],
            "text/plain": [
              "   order_id  \\\n",
              "0      1342   \n",
              "1      1591   \n",
              "2      4519   \n",
              "3      4935   \n",
              "4      6357   \n",
              "5     10362   \n",
              "6     19204   \n",
              "7     29601   \n",
              "8     31035   \n",
              "9     40011   \n",
              "\n",
              "                                                                                                                                                                                                                                                                                                                                                                                                                                                                                                                                                                                                                                                                                                                                                                                                                                                                                     products  \n",
              "0                                                                                                                                                                                                                                                                                                                                                                                                                                                                                                                                                                                                                                                                                                                         [Raw Shrimp, Seedless Cucumbers, Versatile Stain Remover, Organic Strawberries, Organic Mandarins, Chicken Apple Sausage, Pink Lady Apples, Bag of Organic Bananas]  \n",
              "1  [Cracked Wheat, Strawberry Rhubarb Yoghurt, Organic Bunny Fruit Snacks Berry Patch, Goodness Grapeness Organic Juice Drink, Honey Graham Snacks, Spinach, Granny Smith Apples, Oven Roasted Turkey Breast, Pure Vanilla Extract, Chewy 25% Low Sugar Chocolate Chip Granola, Banana, Original Turkey Burgers Smoke Flavor Added, Twisted Tropical Tango Organic Juice Drink, Navel Oranges, Lower Sugar Instant Oatmeal  Variety, Ultra Thin Sliced Provolone Cheese, Natural Vanilla Ice Cream, Cinnamon Multigrain Cereal, Garlic, Goldfish Pretzel Baked Snack Crackers, Original Whole Grain Chips, Medium Scarlet Raspberries, Lemon Yogurt, Original Patties (100965) 12 Oz Breakfast, Nutty Bars, Strawberry Banana Smoothie, Green Machine Juice Smoothie, Coconut Dreams Cookies, Buttermilk Waffles, Uncured Genoa Salami, Organic Greek Whole Milk Blended Vanilla Bean Yogurt]  \n",
              "2                                                                                                                                                                                                                                                                                                                                                                                                                                                                                                                                                                                                                                                                                                                                                                                                                        [Beet Apple Carrot Lemon Ginger Organic Cold Pressed Juice Beverage]  \n",
              "3                                                                                                                                                                                                                                                                                                                                                                                                                                                                                                                                                                                                                                                                                                                                                                                                                                                                                     [Vodka]  \n",
              "4                                                                                                                                                                                                                                                                                                                                                                                                                                                                                                                                                                                                                                                                                                            [Globe Eggplant, Panko Bread Crumbs, Fresh Mozzarella Ball, Grated Parmesan, Gala Apples, Italian Pasta Sauce Basilico Tomato, Basil & Garlic, Organic Basil, Banana, Provolone]  \n",
              "5                                              [Organic Baby Spinach, Organic Spring Mix, Organic Leek, Slow Roasted Lightly Seasoned Chick'n, Organic Basil, Organic Shredded Mild Cheddar, Bag of Organic Bananas, Sliced Baby Bella Mushrooms, Organic Tapioca Flour, Organic Gala Apples, Lemons, Limes, Pitted Dates, Jalapeno Peppers, Original Tofurky Deli Slices, Organic Red Bell Pepper, Organic Shredded Carrots, Roma Tomato, Crinkle Cut French Fries, Large Greenhouse Tomato, Organic Pinto Beans, Organic Three Grain Tempeh, Organic Garnet Sweet Potato (Yam), Organic Coconut Milk, Organic Extra Firm Tofu, Ground Sausage Style Veggie Protein, Extra Virgin Olive Oil, Hass Avocados, Multigrain Tortilla Chips, The Ultimate Beefless Burger, Yellow Bell Pepper, Coconut Flour, Light Brown Sugar, Organic Harissa Seasoning, Crushed Garlic, Organic Whole Cashews]  \n",
              "6                                                                                                                                                                                                                                                                                                                                                                                                                                                        [Reduced Fat Crackers, Dishwasher Cleaner, Peanut Powder, Disinfecting Wipes Lemon & Fresh Scent, Lemon Lime Thirst Quencher, Fat Free & Lower Sodium Chicken Broth, American Blend Salad, Cinnamon Cereal, Extra Nasal Strips, Reduced Fat Creamy Peanut Butter Spread, Mozzarella String Cheese Sticks, Light Low-Moisture Part Skim, Electrolyte Enhanced Water, Original Petroleum Jelly, High Efficiency Complete Dual Formula]  \n",
              "7                                                                                                                                                                                                                                                                                                                                                                [Organic Red Onion, Small Batch Authentic Taqueria Tortilla Chips, Hummus, Hope, Original Recipe, Unsweetened Whole Milk Peach Greek Yogurt, Toasted Coconut Almondmilk Blend, Skillet Refried Red Beans Sautéed With Onion & Tomatillo, Almondmilk, Pure, Chocolate Protein, Organic Greek Lowfat Yogurt With Strawberries, Bag of Organic Bananas, California Orange Juice, Mini Whole Wheat Pita Bread, Coconut Almond Creamer Blend, Banana Chia Pod, Tomatillo Salsa, SALSA        FRNTR CHPTL SALSA, Guacamole, Water]  \n",
              "8                                                                                                                                                                                                                                                                                                                                                                                                                                                                                                                                                                                                                                                                                                                                                                                  [Organic Cripps Pink Apples, Organic Golden Delicious Apple, Organic Navel Orange, Bag of Organic Bananas]  \n",
              "9                                                                                                                                                                                                                                                                                                                                                                                                                                                                                                                                                                                                                                                                 [Organic Baby Spinach, Organic Blues Bread with Blue Cornmeal Crust, Sea Salt Macadamias, Natural Calm Magnesium Supplement Raspberry Lemon Flavor Powder, Chocolate Coconut Protein Bar, Sport Chocolate Mint Protein Bar]  "
            ]
          },
          "metadata": {},
          "execution_count": 9
        }
      ]
    },
    {
      "cell_type": "code",
      "metadata": {
        "colab": {
          "base_uri": "https://localhost:8080/",
          "height": 272
        },
        "id": "1oHsVytqZLaw",
        "outputId": "b466b29b-1765-42d7-f826-86d5a3625594"
      },
      "source": [
        "# get products from basket and display the first 10 of the dataframe\n",
        "products=spark.sql('select products from cart').toDF('products')\n",
        "products_pd=products.toPandas()\n",
        "products_pd.head()"
      ],
      "execution_count": 12,
      "outputs": [
        {
          "output_type": "execute_result",
          "data": {
            "text/html": [
              "<div>\n",
              "<style scoped>\n",
              "    .dataframe tbody tr th:only-of-type {\n",
              "        vertical-align: middle;\n",
              "    }\n",
              "\n",
              "    .dataframe tbody tr th {\n",
              "        vertical-align: top;\n",
              "    }\n",
              "\n",
              "    .dataframe thead th {\n",
              "        text-align: right;\n",
              "    }\n",
              "</style>\n",
              "<table border=\"1\" class=\"dataframe\">\n",
              "  <thead>\n",
              "    <tr style=\"text-align: right;\">\n",
              "      <th></th>\n",
              "      <th>products</th>\n",
              "    </tr>\n",
              "  </thead>\n",
              "  <tbody>\n",
              "    <tr>\n",
              "      <th>0</th>\n",
              "      <td>[Raw Shrimp, Seedless Cucumbers, Versatile Stain Remover, Organic Strawberries, Organic Mandarins, Chicken Apple Sausage, Pink Lady Apples, Bag of Organic Bananas]</td>\n",
              "    </tr>\n",
              "    <tr>\n",
              "      <th>1</th>\n",
              "      <td>[Cracked Wheat, Strawberry Rhubarb Yoghurt, Organic Bunny Fruit Snacks Berry Patch, Goodness Grapeness Organic Juice Drink, Honey Graham Snacks, Spinach, Granny Smith Apples, Oven Roasted Turkey Breast, Pure Vanilla Extract, Chewy 25% Low Sugar Chocolate Chip Granola, Banana, Original Turkey Burgers Smoke Flavor Added, Twisted Tropical Tango Organic Juice Drink, Navel Oranges, Lower Sugar Instant Oatmeal  Variety, Ultra Thin Sliced Provolone Cheese, Natural Vanilla Ice Cream, Cinnamon Multigrain Cereal, Garlic, Goldfish Pretzel Baked Snack Crackers, Original Whole Grain Chips, Medium Scarlet Raspberries, Lemon Yogurt, Original Patties (100965) 12 Oz Breakfast, Nutty Bars, Strawberry Banana Smoothie, Green Machine Juice Smoothie, Coconut Dreams Cookies, Buttermilk Waffles, Uncured Genoa Salami, Organic Greek Whole Milk Blended Vanilla Bean Yogurt]</td>\n",
              "    </tr>\n",
              "    <tr>\n",
              "      <th>2</th>\n",
              "      <td>[Beet Apple Carrot Lemon Ginger Organic Cold Pressed Juice Beverage]</td>\n",
              "    </tr>\n",
              "    <tr>\n",
              "      <th>3</th>\n",
              "      <td>[Vodka]</td>\n",
              "    </tr>\n",
              "    <tr>\n",
              "      <th>4</th>\n",
              "      <td>[Globe Eggplant, Panko Bread Crumbs, Fresh Mozzarella Ball, Grated Parmesan, Gala Apples, Italian Pasta Sauce Basilico Tomato, Basil &amp; Garlic, Organic Basil, Banana, Provolone]</td>\n",
              "    </tr>\n",
              "  </tbody>\n",
              "</table>\n",
              "</div>"
            ],
            "text/plain": [
              "                                                                                                                                                                                                                                                                                                                                                                                                                                                                                                                                                                                                                                                                                                                                                                                                                                                                                     products\n",
              "0                                                                                                                                                                                                                                                                                                                                                                                                                                                                                                                                                                                                                                                                                                                         [Raw Shrimp, Seedless Cucumbers, Versatile Stain Remover, Organic Strawberries, Organic Mandarins, Chicken Apple Sausage, Pink Lady Apples, Bag of Organic Bananas]\n",
              "1  [Cracked Wheat, Strawberry Rhubarb Yoghurt, Organic Bunny Fruit Snacks Berry Patch, Goodness Grapeness Organic Juice Drink, Honey Graham Snacks, Spinach, Granny Smith Apples, Oven Roasted Turkey Breast, Pure Vanilla Extract, Chewy 25% Low Sugar Chocolate Chip Granola, Banana, Original Turkey Burgers Smoke Flavor Added, Twisted Tropical Tango Organic Juice Drink, Navel Oranges, Lower Sugar Instant Oatmeal  Variety, Ultra Thin Sliced Provolone Cheese, Natural Vanilla Ice Cream, Cinnamon Multigrain Cereal, Garlic, Goldfish Pretzel Baked Snack Crackers, Original Whole Grain Chips, Medium Scarlet Raspberries, Lemon Yogurt, Original Patties (100965) 12 Oz Breakfast, Nutty Bars, Strawberry Banana Smoothie, Green Machine Juice Smoothie, Coconut Dreams Cookies, Buttermilk Waffles, Uncured Genoa Salami, Organic Greek Whole Milk Blended Vanilla Bean Yogurt]\n",
              "2                                                                                                                                                                                                                                                                                                                                                                                                                                                                                                                                                                                                                                                                                                                                                                                                                        [Beet Apple Carrot Lemon Ginger Organic Cold Pressed Juice Beverage]\n",
              "3                                                                                                                                                                                                                                                                                                                                                                                                                                                                                                                                                                                                                                                                                                                                                                                                                                                                                     [Vodka]\n",
              "4                                                                                                                                                                                                                                                                                                                                                                                                                                                                                                                                                                                                                                                                                                            [Globe Eggplant, Panko Bread Crumbs, Fresh Mozzarella Ball, Grated Parmesan, Gala Apples, Italian Pasta Sauce Basilico Tomato, Basil & Garlic, Organic Basil, Banana, Provolone]"
            ]
          },
          "metadata": {},
          "execution_count": 12
        }
      ]
    },
    {
      "cell_type": "markdown",
      "metadata": {
        "id": "-V4lC1bkZLaw"
      },
      "source": [
        "### Model training"
      ]
    },
    {
      "cell_type": "code",
      "metadata": {
        "id": "EfDXSTOgZLaw"
      },
      "source": [
        "fpg=FPGrowth(itemsCol='products',minSupport=0.001,minConfidence=0,numPartitions=20)\n",
        "fpg_model=fpg.fit(cart)"
      ],
      "execution_count": 37,
      "outputs": []
    },
    {
      "cell_type": "code",
      "metadata": {
        "colab": {
          "base_uri": "https://localhost:8080/",
          "height": 204
        },
        "id": "oW6I5SlMz9VQ",
        "outputId": "9452d80b-3d1f-453d-8adc-0b8284cd8fca"
      },
      "source": [
        "freq_products=fpg_model.freqItemsets\n",
        "freq_products.createOrReplaceTempView('freq_products')\n",
        "freq_products_1=spark.sql('select items,freq from freq_products where size(items)>1 order by freq desc')\n",
        "freq_products_pd=freq_products_1.toPandas()\n",
        "freq_products_pd.head()"
      ],
      "execution_count": 39,
      "outputs": [
        {
          "output_type": "execute_result",
          "data": {
            "text/html": [
              "<div>\n",
              "<style scoped>\n",
              "    .dataframe tbody tr th:only-of-type {\n",
              "        vertical-align: middle;\n",
              "    }\n",
              "\n",
              "    .dataframe tbody tr th {\n",
              "        vertical-align: top;\n",
              "    }\n",
              "\n",
              "    .dataframe thead th {\n",
              "        text-align: right;\n",
              "    }\n",
              "</style>\n",
              "<table border=\"1\" class=\"dataframe\">\n",
              "  <thead>\n",
              "    <tr style=\"text-align: right;\">\n",
              "      <th></th>\n",
              "      <th>items</th>\n",
              "      <th>freq</th>\n",
              "    </tr>\n",
              "  </thead>\n",
              "  <tbody>\n",
              "    <tr>\n",
              "      <th>0</th>\n",
              "      <td>[Organic Strawberries, Bag of Organic Bananas]</td>\n",
              "      <td>3074</td>\n",
              "    </tr>\n",
              "    <tr>\n",
              "      <th>1</th>\n",
              "      <td>[Organic Hass Avocado, Bag of Organic Bananas]</td>\n",
              "      <td>2420</td>\n",
              "    </tr>\n",
              "    <tr>\n",
              "      <th>2</th>\n",
              "      <td>[Organic Baby Spinach, Bag of Organic Bananas]</td>\n",
              "      <td>2236</td>\n",
              "    </tr>\n",
              "    <tr>\n",
              "      <th>3</th>\n",
              "      <td>[Organic Avocado, Banana]</td>\n",
              "      <td>2216</td>\n",
              "    </tr>\n",
              "    <tr>\n",
              "      <th>4</th>\n",
              "      <td>[Organic Strawberries, Banana]</td>\n",
              "      <td>2174</td>\n",
              "    </tr>\n",
              "  </tbody>\n",
              "</table>\n",
              "</div>"
            ],
            "text/plain": [
              "                                            items  freq\n",
              "0  [Organic Strawberries, Bag of Organic Bananas]  3074\n",
              "1  [Organic Hass Avocado, Bag of Organic Bananas]  2420\n",
              "2  [Organic Baby Spinach, Bag of Organic Bananas]  2236\n",
              "3                       [Organic Avocado, Banana]  2216\n",
              "4                  [Organic Strawberries, Banana]  2174"
            ]
          },
          "metadata": {},
          "execution_count": 39
        }
      ]
    },
    {
      "cell_type": "markdown",
      "metadata": {
        "id": "xmomezm7ZLay"
      },
      "source": [
        "### Generating Assiciation Rule Mining"
      ]
    },
    {
      "cell_type": "markdown",
      "metadata": {
        "id": "1SL7NWDTZLay"
      },
      "source": [
        "#### Predicting what a customer bought(antecedent), then we can recommend what the user will purchase next (consequent)"
      ]
    },
    {
      "cell_type": "code",
      "metadata": {
        "colab": {
          "base_uri": "https://localhost:8080/",
          "height": 204
        },
        "id": "jcn4jBVGZLay",
        "outputId": "adb14ab4-8dc8-4fd4-8c76-605bdacbc9a9"
      },
      "source": [
        "rules=fpg_model.associationRules\n",
        "rules.createOrReplaceTempView('rules')\n",
        "rules_1=spark.sql('SELECT antecedent AS `antecedent (if)`,consequent AS `consequent (then)`,confidence, lift FROM rules ORDER BY confidence DESC')\n",
        "rules_pd=rules_1.toPandas()\n",
        "rules_pd.head()"
      ],
      "execution_count": 40,
      "outputs": [
        {
          "output_type": "execute_result",
          "data": {
            "text/html": [
              "<div>\n",
              "<style scoped>\n",
              "    .dataframe tbody tr th:only-of-type {\n",
              "        vertical-align: middle;\n",
              "    }\n",
              "\n",
              "    .dataframe tbody tr th {\n",
              "        vertical-align: top;\n",
              "    }\n",
              "\n",
              "    .dataframe thead th {\n",
              "        text-align: right;\n",
              "    }\n",
              "</style>\n",
              "<table border=\"1\" class=\"dataframe\">\n",
              "  <thead>\n",
              "    <tr style=\"text-align: right;\">\n",
              "      <th></th>\n",
              "      <th>antecedent (if)</th>\n",
              "      <th>consequent (then)</th>\n",
              "      <th>confidence</th>\n",
              "      <th>lift</th>\n",
              "    </tr>\n",
              "  </thead>\n",
              "  <tbody>\n",
              "    <tr>\n",
              "      <th>0</th>\n",
              "      <td>[Organic Raspberries, Organic Hass Avocado, Organic Strawberries]</td>\n",
              "      <td>[Bag of Organic Bananas]</td>\n",
              "      <td>0.598425</td>\n",
              "      <td>5.072272</td>\n",
              "    </tr>\n",
              "    <tr>\n",
              "      <th>1</th>\n",
              "      <td>[Organic Cucumber, Organic Hass Avocado, Organic Strawberries]</td>\n",
              "      <td>[Bag of Organic Bananas]</td>\n",
              "      <td>0.546875</td>\n",
              "      <td>4.635331</td>\n",
              "    </tr>\n",
              "    <tr>\n",
              "      <th>2</th>\n",
              "      <td>[Organic Kiwi, Organic Hass Avocado]</td>\n",
              "      <td>[Bag of Organic Bananas]</td>\n",
              "      <td>0.545977</td>\n",
              "      <td>4.627719</td>\n",
              "    </tr>\n",
              "    <tr>\n",
              "      <th>3</th>\n",
              "      <td>[Organic Navel Orange, Organic Raspberries]</td>\n",
              "      <td>[Bag of Organic Bananas]</td>\n",
              "      <td>0.541219</td>\n",
              "      <td>4.587387</td>\n",
              "    </tr>\n",
              "    <tr>\n",
              "      <th>4</th>\n",
              "      <td>[Yellow Onions, Strawberries]</td>\n",
              "      <td>[Banana]</td>\n",
              "      <td>0.535714</td>\n",
              "      <td>3.753633</td>\n",
              "    </tr>\n",
              "  </tbody>\n",
              "</table>\n",
              "</div>"
            ],
            "text/plain": [
              "                                                     antecedent (if)  \\\n",
              "0  [Organic Raspberries, Organic Hass Avocado, Organic Strawberries]   \n",
              "1     [Organic Cucumber, Organic Hass Avocado, Organic Strawberries]   \n",
              "2                               [Organic Kiwi, Organic Hass Avocado]   \n",
              "3                        [Organic Navel Orange, Organic Raspberries]   \n",
              "4                                      [Yellow Onions, Strawberries]   \n",
              "\n",
              "          consequent (then)  confidence      lift  \n",
              "0  [Bag of Organic Bananas]    0.598425  5.072272  \n",
              "1  [Bag of Organic Bananas]    0.546875  4.635331  \n",
              "2  [Bag of Organic Bananas]    0.545977  4.627719  \n",
              "3  [Bag of Organic Bananas]    0.541219  4.587387  \n",
              "4                  [Banana]    0.535714  3.753633  "
            ]
          },
          "metadata": {},
          "execution_count": 40
        }
      ]
    },
    {
      "cell_type": "markdown",
      "metadata": {
        "id": "Zk9pj_66ZLay"
      },
      "source": [
        "- we can see that the above result has confidence of 0.50 and above, the model will recommend the purchase of Organic bananas to anyone who have Organic Raspberries, Organic Hass Avocado, Organic Strawberries,Organic Kiwi,Organic Navel Orange,Yellow Onions, Strawberries ect in their basket."
      ]
    },
    {
      "cell_type": "markdown",
      "metadata": {
        "id": "KIRAqNVCZLaz"
      },
      "source": [
        "#### Display actual items purchased vs predicted items"
      ]
    },
    {
      "cell_type": "code",
      "metadata": {
        "colab": {
          "base_uri": "https://localhost:8080/",
          "height": 1000
        },
        "id": "KxTRVL5cZLaz",
        "outputId": "20058810-41f1-44af-d871-35cf9f65ed07"
      },
      "source": [
        "pred=fpg_model.transform(cart)\n",
        "pred.createOrReplaceTempView('pred')\n",
        "pred_1=spark.sql('SELECT order_id, products, prediction FROM pred')\n",
        "pred_pd=pred_1.toPandas()\n",
        "pred_pd.head()"
      ],
      "execution_count": 42,
      "outputs": [
        {
          "output_type": "execute_result",
          "data": {
            "text/html": [
              "<div>\n",
              "<style scoped>\n",
              "    .dataframe tbody tr th:only-of-type {\n",
              "        vertical-align: middle;\n",
              "    }\n",
              "\n",
              "    .dataframe tbody tr th {\n",
              "        vertical-align: top;\n",
              "    }\n",
              "\n",
              "    .dataframe thead th {\n",
              "        text-align: right;\n",
              "    }\n",
              "</style>\n",
              "<table border=\"1\" class=\"dataframe\">\n",
              "  <thead>\n",
              "    <tr style=\"text-align: right;\">\n",
              "      <th></th>\n",
              "      <th>order_id</th>\n",
              "      <th>products</th>\n",
              "      <th>prediction</th>\n",
              "    </tr>\n",
              "  </thead>\n",
              "  <tbody>\n",
              "    <tr>\n",
              "      <th>0</th>\n",
              "      <td>1342</td>\n",
              "      <td>[Raw Shrimp, Seedless Cucumbers, Versatile Stain Remover, Organic Strawberries, Organic Mandarins, Chicken Apple Sausage, Pink Lady Apples, Bag of Organic Bananas]</td>\n",
              "      <td>[Strawberries, Organic Tomato Basil Pasta Sauce, Total 0% Greek Yogurt, Hass Avocado, Yellow Onions, Clementines, Organic Garnet Sweet Potato (Yam), Organic Diced Tomatoes, Organic Russet Potato, Extra Virgin Olive Oil, Organic Brown Rice, Organic Sticks Low Moisture Part Skim Mozzarella String Cheese, Organic Tomato Cluster, Organic Thompson Seedless Raisins, Uncured Hickory Smoked Sunday Bacon, Yellow Bell Pepper, Organic Ginger Root, Organic Large Grade A Brown Eggs, Organic Coconut Milk, Organic Black Beans, Organic Baby Carrots, Roasted Turkey Breast, Organic Egg Whites, Green Beans, Organic Whole String Cheese, Organic Leek, Organic Red Radish, Bunch, Honeycrisp Apple, Organic Cheese Frozen Pizza, Organic Hothouse Cucumbers, Green Bell Pepper, Organic Reduced Fat 2% Milk, Organic Cilantro, Organic Butternut Squash, Sweet Onion, Shredded Parmesan, Carrots, Organic Shredded Carrots, Organic Romaine Lettuce, Organic Navel Orange, Air Chilled Organic Boneless Skinless Chicken Breasts, Organic Baby Spinach, Shredded Mild Cheddar Cheese, Organic Baby Rainbow Carrots, 100% Raw Coconut Water, Organic Peeled Whole Baby Carrots, Celery Hearts, Organic Riced Cauliflower, Organic Romaine, Lime Sparkling Water, Large Lemon, Organic Honey Sweet Whole Wheat Bread, Organic Creamy Peanut Butter, Grape White/Green Seedless, Organic Lemon, Original Veggie Straws, Sustainably Soft Bath Tissue, Brussels Sprouts, Original Pure Creamy Almond Milk, Roma Tomato, Organic Avocado, Lemon Hummus, Sparkling Water Grapefruit, Fresh Ginger Root, Half &amp; Half, Organic Shredded Mozzarella, Total 0% Nonfat Greek Yogurt, Red Raspberries, Raspberries, Organic Baby Spinach Salad, Oven Roasted Turkey Breast, Vanilla Almond Breeze Almond Milk, Cucumber Kirby, Baby Spinach, Garlic, Organic Hass Avocado, Trilogy Kombucha Drink, Marinara Sauce, Sharp Cheddar Cheese, Organic Italian Parsley Bunch, Crackers Cheddar Bunnies Snack Packs, Organic Fat Free Milk, Organic Garbanzo Beans, Bunched Cilantro, Super Greens Salad, Lightly Salted Baked Snap Pea Crisps, Clementines, Bag, Organic Fuji Apples, Organic Fuji Apple, Organic Large Brown Grade AA Cage Free Eggs, Jalapeno Peppers, Limes, Whole Milk Plain Yogurt, Organic Frozen Peas, Pure Irish Butter, Small Hass Avocado, Sea Salt Pita Chips, No Salt Added Black Beans, Organic Red Bell Pepper, Pretzel Crisps Original Deli Style Pretzel Crackers, ...]</td>\n",
              "    </tr>\n",
              "    <tr>\n",
              "      <th>1</th>\n",
              "      <td>1591</td>\n",
              "      <td>[Cracked Wheat, Strawberry Rhubarb Yoghurt, Organic Bunny Fruit Snacks Berry Patch, Goodness Grapeness Organic Juice Drink, Honey Graham Snacks, Spinach, Granny Smith Apples, Oven Roasted Turkey Breast, Pure Vanilla Extract, Chewy 25% Low Sugar Chocolate Chip Granola, Banana, Original Turkey Burgers Smoke Flavor Added, Twisted Tropical Tango Organic Juice Drink, Navel Oranges, Lower Sugar Instant Oatmeal  Variety, Ultra Thin Sliced Provolone Cheese, Natural Vanilla Ice Cream, Cinnamon Multigrain Cereal, Garlic, Goldfish Pretzel Baked Snack Crackers, Original Whole Grain Chips, Medium Scarlet Raspberries, Lemon Yogurt, Original Patties (100965) 12 Oz Breakfast, Nutty Bars, Strawberry Banana Smoothie, Green Machine Juice Smoothie, Coconut Dreams Cookies, Buttermilk Waffles, Uncured Genoa Salami, Organic Greek Whole Milk Blended Vanilla Bean Yogurt]</td>\n",
              "      <td>[Blueberry Yoghurt, Organic Tomato Basil Pasta Sauce, Total 0% Greek Yogurt, Hass Avocado, Yellow Onions, Total 2% Lowfat Plain Greek Yogurt, Pure Coconut Water, Organic 2% Reduced Fat Milk, Raisin Bran Cereal, Organic Garnet Sweet Potato (Yam), Organic Russet Potato, Extra Virgin Olive Oil, Hint Of Sea Salt Almond Nut Thins, Total 2% Greek Strained Yogurt with Cherry 5.3 oz, Organic Sticks Low Moisture Part Skim Mozzarella String Cheese, Organic Tomato Cluster, Frozen Broccoli Florets, Uncured Hickory Smoked Sunday Bacon, Yellow Bell Pepper, Organic Ginger Root, Total 2% Lowfat Greek Strained Yogurt With Blueberry, Organic Large Grade A Brown Eggs, Organic Coconut Milk, Grade A Large Eggs Cage Free Omega 3, Organic Black Beans, Organic Baby Carrots, Diced Tomatoes, Iceberg Lettuce, Roasted Turkey Breast, Organic Egg Whites, Green Beans, Organic Whole String Cheese, Grade A Large White Eggs, Organic Strawberries, Organic Red Radish, Bunch, 2% Reduced Fat Milk, Honeycrisp Apple, Organic Hothouse Cucumbers, Marinara Pasta Sauce, Whole Milk, Green Bell Pepper, Organic Green Leaf Lettuce, 2% Reduced Fat Organic Milk, Organic Reduced Fat 2% Milk, Organic Cilantro, European Cucumber, Organic Butternut Squash, Shredded Parmesan, Carrots, Organic Shredded Carrots, Organic Romaine Lettuce, Organic Navel Orange, Organic Baby Spinach, Shredded Mild Cheddar Cheese, Organic Baby Rainbow Carrots, 100% Raw Coconut Water, Organic Peeled Whole Baby Carrots, Citrus Mandarins Organic, Organic Riced Cauliflower, Organic Romaine, Lime Sparkling Water, Large Lemon, Organic Creamy Peanut Butter, Cherubs Heavenly Salad Tomatoes, Grape White/Green Seedless, Organic Lemon, Sparkling Water Berry, Original Veggie Straws, Brussels Sprouts, Mandarin Oranges, Roma Tomato, Organic Avocado, Total 2% Lowfat Greek Strained Yogurt with Peach, Vanilla Skyr Nonfat Yogurt, Eggo Homestyle Waffles, Sour Cream, Sparkling Water Grapefruit, Macaroni &amp; Cheese, Peach Pear Flavored Sparkling Water, Fresh Ginger Root, Half &amp; Half, Total 0% Nonfat Greek Yogurt, Red Raspberries, Total 2% All Natural Low Fat 2% Milkfat Greek Strained Yogurt, Raspberries, Strawberry Preserves, Organic Baby Spinach Salad, Vanilla Almond Breeze Almond Milk, Cucumber Kirby, Original No Pulp 100% Florida Orange Juice, Baby Spinach, Mini Original Babybel Cheese, Organic Hass Avocado, Marinara Sauce, Vine Ripe Tomatoes, Sharp Cheddar Cheese, Organic Italian Parsley Bunch, Organic Fat Free Milk, Organic Garbanzo Beans, Bunched Cilantro, ...]</td>\n",
              "    </tr>\n",
              "    <tr>\n",
              "      <th>2</th>\n",
              "      <td>4519</td>\n",
              "      <td>[Beet Apple Carrot Lemon Ginger Organic Cold Pressed Juice Beverage]</td>\n",
              "      <td>[]</td>\n",
              "    </tr>\n",
              "    <tr>\n",
              "      <th>3</th>\n",
              "      <td>4935</td>\n",
              "      <td>[Vodka]</td>\n",
              "      <td>[]</td>\n",
              "    </tr>\n",
              "    <tr>\n",
              "      <th>4</th>\n",
              "      <td>6357</td>\n",
              "      <td>[Globe Eggplant, Panko Bread Crumbs, Fresh Mozzarella Ball, Grated Parmesan, Gala Apples, Italian Pasta Sauce Basilico Tomato, Basil &amp; Garlic, Organic Basil, Banana, Provolone]</td>\n",
              "      <td>[Organic Tomato Basil Pasta Sauce, Total 0% Greek Yogurt, Hass Avocado, Yellow Onions, Total 2% Lowfat Plain Greek Yogurt, Pure Coconut Water, Organic 2% Reduced Fat Milk, Raisin Bran Cereal, Organic Garnet Sweet Potato (Yam), Organic Russet Potato, Extra Virgin Olive Oil, Hint Of Sea Salt Almond Nut Thins, Total 2% Greek Strained Yogurt with Cherry 5.3 oz, Organic Sticks Low Moisture Part Skim Mozzarella String Cheese, Organic Tomato Cluster, Frozen Broccoli Florets, Uncured Hickory Smoked Sunday Bacon, Yellow Bell Pepper, Organic Ginger Root, Total 2% Lowfat Greek Strained Yogurt With Blueberry, Organic Large Grade A Brown Eggs, Organic Coconut Milk, Grade A Large Eggs Cage Free Omega 3, Organic Black Beans, Organic Baby Carrots, Diced Tomatoes, Iceberg Lettuce, Roasted Turkey Breast, Organic Egg Whites, Green Beans, Organic Whole String Cheese, Grade A Large White Eggs, Organic Strawberries, Organic Red Radish, Bunch, 2% Reduced Fat Milk, Honeycrisp Apple, Organic Hothouse Cucumbers, Marinara Pasta Sauce, Whole Milk, Green Bell Pepper, Organic Green Leaf Lettuce, 2% Reduced Fat Organic Milk, Organic Reduced Fat 2% Milk, Organic Cilantro, European Cucumber, Organic Butternut Squash, Shredded Parmesan, Carrots, Organic Shredded Carrots, Organic Romaine Lettuce, Organic Navel Orange, Organic Baby Spinach, Shredded Mild Cheddar Cheese, Organic Baby Rainbow Carrots, 100% Raw Coconut Water, Organic Peeled Whole Baby Carrots, Citrus Mandarins Organic, Organic Riced Cauliflower, Organic Romaine, Lime Sparkling Water, Large Lemon, Organic Creamy Peanut Butter, Cherubs Heavenly Salad Tomatoes, Grape White/Green Seedless, Organic Lemon, Sparkling Water Berry, Original Veggie Straws, Brussels Sprouts, Mandarin Oranges, Roma Tomato, Organic Avocado, Total 2% Lowfat Greek Strained Yogurt with Peach, Vanilla Skyr Nonfat Yogurt, Eggo Homestyle Waffles, Sour Cream, Sparkling Water Grapefruit, Macaroni &amp; Cheese, Peach Pear Flavored Sparkling Water, Fresh Ginger Root, Half &amp; Half, Total 0% Nonfat Greek Yogurt, Red Raspberries, Total 2% All Natural Low Fat 2% Milkfat Greek Strained Yogurt, Raspberries, Strawberry Preserves, Organic Baby Spinach Salad, Oven Roasted Turkey Breast, Vanilla Almond Breeze Almond Milk, Cucumber Kirby, Original No Pulp 100% Florida Orange Juice, Baby Spinach, Mini Original Babybel Cheese, Garlic, Organic Hass Avocado, Marinara Sauce, Vine Ripe Tomatoes, Sharp Cheddar Cheese, Organic Italian Parsley Bunch, Organic Fat Free Milk, Organic Garbanzo Beans, ...]</td>\n",
              "    </tr>\n",
              "  </tbody>\n",
              "</table>\n",
              "</div>"
            ],
            "text/plain": [
              "   order_id  \\\n",
              "0      1342   \n",
              "1      1591   \n",
              "2      4519   \n",
              "3      4935   \n",
              "4      6357   \n",
              "\n",
              "                                                                                                                                                                                                                                                                                                                                                                                                                                                                                                                                                                                                                                                                                                                                                                                                                                                                                     products  \\\n",
              "0                                                                                                                                                                                                                                                                                                                                                                                                                                                                                                                                                                                                                                                                                                                         [Raw Shrimp, Seedless Cucumbers, Versatile Stain Remover, Organic Strawberries, Organic Mandarins, Chicken Apple Sausage, Pink Lady Apples, Bag of Organic Bananas]   \n",
              "1  [Cracked Wheat, Strawberry Rhubarb Yoghurt, Organic Bunny Fruit Snacks Berry Patch, Goodness Grapeness Organic Juice Drink, Honey Graham Snacks, Spinach, Granny Smith Apples, Oven Roasted Turkey Breast, Pure Vanilla Extract, Chewy 25% Low Sugar Chocolate Chip Granola, Banana, Original Turkey Burgers Smoke Flavor Added, Twisted Tropical Tango Organic Juice Drink, Navel Oranges, Lower Sugar Instant Oatmeal  Variety, Ultra Thin Sliced Provolone Cheese, Natural Vanilla Ice Cream, Cinnamon Multigrain Cereal, Garlic, Goldfish Pretzel Baked Snack Crackers, Original Whole Grain Chips, Medium Scarlet Raspberries, Lemon Yogurt, Original Patties (100965) 12 Oz Breakfast, Nutty Bars, Strawberry Banana Smoothie, Green Machine Juice Smoothie, Coconut Dreams Cookies, Buttermilk Waffles, Uncured Genoa Salami, Organic Greek Whole Milk Blended Vanilla Bean Yogurt]   \n",
              "2                                                                                                                                                                                                                                                                                                                                                                                                                                                                                                                                                                                                                                                                                                                                                                                                                        [Beet Apple Carrot Lemon Ginger Organic Cold Pressed Juice Beverage]   \n",
              "3                                                                                                                                                                                                                                                                                                                                                                                                                                                                                                                                                                                                                                                                                                                                                                                                                                                                                     [Vodka]   \n",
              "4                                                                                                                                                                                                                                                                                                                                                                                                                                                                                                                                                                                                                                                                                                            [Globe Eggplant, Panko Bread Crumbs, Fresh Mozzarella Ball, Grated Parmesan, Gala Apples, Italian Pasta Sauce Basilico Tomato, Basil & Garlic, Organic Basil, Banana, Provolone]   \n",
              "\n",
              "                                                                                                                                                                                                                                                                                                                                                                                                                                                                                                                                                                                                                                                                                                                                                                                                                                                                                                                                                                                                                                                                                                                                                                                                                                                                                                                                                                                                                                                                                                                                                                                                                                                                                                                                                                                                                                                                                                                                                                                                                                                                                                                                                                                                                                                                                                                                                                                                                                                                                                                                                                                                        prediction  \n",
              "0                                                                                                                    [Strawberries, Organic Tomato Basil Pasta Sauce, Total 0% Greek Yogurt, Hass Avocado, Yellow Onions, Clementines, Organic Garnet Sweet Potato (Yam), Organic Diced Tomatoes, Organic Russet Potato, Extra Virgin Olive Oil, Organic Brown Rice, Organic Sticks Low Moisture Part Skim Mozzarella String Cheese, Organic Tomato Cluster, Organic Thompson Seedless Raisins, Uncured Hickory Smoked Sunday Bacon, Yellow Bell Pepper, Organic Ginger Root, Organic Large Grade A Brown Eggs, Organic Coconut Milk, Organic Black Beans, Organic Baby Carrots, Roasted Turkey Breast, Organic Egg Whites, Green Beans, Organic Whole String Cheese, Organic Leek, Organic Red Radish, Bunch, Honeycrisp Apple, Organic Cheese Frozen Pizza, Organic Hothouse Cucumbers, Green Bell Pepper, Organic Reduced Fat 2% Milk, Organic Cilantro, Organic Butternut Squash, Sweet Onion, Shredded Parmesan, Carrots, Organic Shredded Carrots, Organic Romaine Lettuce, Organic Navel Orange, Air Chilled Organic Boneless Skinless Chicken Breasts, Organic Baby Spinach, Shredded Mild Cheddar Cheese, Organic Baby Rainbow Carrots, 100% Raw Coconut Water, Organic Peeled Whole Baby Carrots, Celery Hearts, Organic Riced Cauliflower, Organic Romaine, Lime Sparkling Water, Large Lemon, Organic Honey Sweet Whole Wheat Bread, Organic Creamy Peanut Butter, Grape White/Green Seedless, Organic Lemon, Original Veggie Straws, Sustainably Soft Bath Tissue, Brussels Sprouts, Original Pure Creamy Almond Milk, Roma Tomato, Organic Avocado, Lemon Hummus, Sparkling Water Grapefruit, Fresh Ginger Root, Half & Half, Organic Shredded Mozzarella, Total 0% Nonfat Greek Yogurt, Red Raspberries, Raspberries, Organic Baby Spinach Salad, Oven Roasted Turkey Breast, Vanilla Almond Breeze Almond Milk, Cucumber Kirby, Baby Spinach, Garlic, Organic Hass Avocado, Trilogy Kombucha Drink, Marinara Sauce, Sharp Cheddar Cheese, Organic Italian Parsley Bunch, Crackers Cheddar Bunnies Snack Packs, Organic Fat Free Milk, Organic Garbanzo Beans, Bunched Cilantro, Super Greens Salad, Lightly Salted Baked Snap Pea Crisps, Clementines, Bag, Organic Fuji Apples, Organic Fuji Apple, Organic Large Brown Grade AA Cage Free Eggs, Jalapeno Peppers, Limes, Whole Milk Plain Yogurt, Organic Frozen Peas, Pure Irish Butter, Small Hass Avocado, Sea Salt Pita Chips, No Salt Added Black Beans, Organic Red Bell Pepper, Pretzel Crisps Original Deli Style Pretzel Crackers, ...]  \n",
              "1  [Blueberry Yoghurt, Organic Tomato Basil Pasta Sauce, Total 0% Greek Yogurt, Hass Avocado, Yellow Onions, Total 2% Lowfat Plain Greek Yogurt, Pure Coconut Water, Organic 2% Reduced Fat Milk, Raisin Bran Cereal, Organic Garnet Sweet Potato (Yam), Organic Russet Potato, Extra Virgin Olive Oil, Hint Of Sea Salt Almond Nut Thins, Total 2% Greek Strained Yogurt with Cherry 5.3 oz, Organic Sticks Low Moisture Part Skim Mozzarella String Cheese, Organic Tomato Cluster, Frozen Broccoli Florets, Uncured Hickory Smoked Sunday Bacon, Yellow Bell Pepper, Organic Ginger Root, Total 2% Lowfat Greek Strained Yogurt With Blueberry, Organic Large Grade A Brown Eggs, Organic Coconut Milk, Grade A Large Eggs Cage Free Omega 3, Organic Black Beans, Organic Baby Carrots, Diced Tomatoes, Iceberg Lettuce, Roasted Turkey Breast, Organic Egg Whites, Green Beans, Organic Whole String Cheese, Grade A Large White Eggs, Organic Strawberries, Organic Red Radish, Bunch, 2% Reduced Fat Milk, Honeycrisp Apple, Organic Hothouse Cucumbers, Marinara Pasta Sauce, Whole Milk, Green Bell Pepper, Organic Green Leaf Lettuce, 2% Reduced Fat Organic Milk, Organic Reduced Fat 2% Milk, Organic Cilantro, European Cucumber, Organic Butternut Squash, Shredded Parmesan, Carrots, Organic Shredded Carrots, Organic Romaine Lettuce, Organic Navel Orange, Organic Baby Spinach, Shredded Mild Cheddar Cheese, Organic Baby Rainbow Carrots, 100% Raw Coconut Water, Organic Peeled Whole Baby Carrots, Citrus Mandarins Organic, Organic Riced Cauliflower, Organic Romaine, Lime Sparkling Water, Large Lemon, Organic Creamy Peanut Butter, Cherubs Heavenly Salad Tomatoes, Grape White/Green Seedless, Organic Lemon, Sparkling Water Berry, Original Veggie Straws, Brussels Sprouts, Mandarin Oranges, Roma Tomato, Organic Avocado, Total 2% Lowfat Greek Strained Yogurt with Peach, Vanilla Skyr Nonfat Yogurt, Eggo Homestyle Waffles, Sour Cream, Sparkling Water Grapefruit, Macaroni & Cheese, Peach Pear Flavored Sparkling Water, Fresh Ginger Root, Half & Half, Total 0% Nonfat Greek Yogurt, Red Raspberries, Total 2% All Natural Low Fat 2% Milkfat Greek Strained Yogurt, Raspberries, Strawberry Preserves, Organic Baby Spinach Salad, Vanilla Almond Breeze Almond Milk, Cucumber Kirby, Original No Pulp 100% Florida Orange Juice, Baby Spinach, Mini Original Babybel Cheese, Organic Hass Avocado, Marinara Sauce, Vine Ripe Tomatoes, Sharp Cheddar Cheese, Organic Italian Parsley Bunch, Organic Fat Free Milk, Organic Garbanzo Beans, Bunched Cilantro, ...]  \n",
              "2                                                                                                                                                                                                                                                                                                                                                                                                                                                                                                                                                                                                                                                                                                                                                                                                                                                                                                                                                                                                                                                                                                                                                                                                                                                                                                                                                                                                                                                                                                                                                                                                                                                                                                                                                                                                                                                                                                                                                                                                                                                                                                                                                                                                                                                                                                                                                                                                                                                                                                                                                                                                               []  \n",
              "3                                                                                                                                                                                                                                                                                                                                                                                                                                                                                                                                                                                                                                                                                                                                                                                                                                                                                                                                                                                                                                                                                                                                                                                                                                                                                                                                                                                                                                                                                                                                                                                                                                                                                                                                                                                                                                                                                                                                                                                                                                                                                                                                                                                                                                                                                                                                                                                                                                                                                                                                                                                                               []  \n",
              "4   [Organic Tomato Basil Pasta Sauce, Total 0% Greek Yogurt, Hass Avocado, Yellow Onions, Total 2% Lowfat Plain Greek Yogurt, Pure Coconut Water, Organic 2% Reduced Fat Milk, Raisin Bran Cereal, Organic Garnet Sweet Potato (Yam), Organic Russet Potato, Extra Virgin Olive Oil, Hint Of Sea Salt Almond Nut Thins, Total 2% Greek Strained Yogurt with Cherry 5.3 oz, Organic Sticks Low Moisture Part Skim Mozzarella String Cheese, Organic Tomato Cluster, Frozen Broccoli Florets, Uncured Hickory Smoked Sunday Bacon, Yellow Bell Pepper, Organic Ginger Root, Total 2% Lowfat Greek Strained Yogurt With Blueberry, Organic Large Grade A Brown Eggs, Organic Coconut Milk, Grade A Large Eggs Cage Free Omega 3, Organic Black Beans, Organic Baby Carrots, Diced Tomatoes, Iceberg Lettuce, Roasted Turkey Breast, Organic Egg Whites, Green Beans, Organic Whole String Cheese, Grade A Large White Eggs, Organic Strawberries, Organic Red Radish, Bunch, 2% Reduced Fat Milk, Honeycrisp Apple, Organic Hothouse Cucumbers, Marinara Pasta Sauce, Whole Milk, Green Bell Pepper, Organic Green Leaf Lettuce, 2% Reduced Fat Organic Milk, Organic Reduced Fat 2% Milk, Organic Cilantro, European Cucumber, Organic Butternut Squash, Shredded Parmesan, Carrots, Organic Shredded Carrots, Organic Romaine Lettuce, Organic Navel Orange, Organic Baby Spinach, Shredded Mild Cheddar Cheese, Organic Baby Rainbow Carrots, 100% Raw Coconut Water, Organic Peeled Whole Baby Carrots, Citrus Mandarins Organic, Organic Riced Cauliflower, Organic Romaine, Lime Sparkling Water, Large Lemon, Organic Creamy Peanut Butter, Cherubs Heavenly Salad Tomatoes, Grape White/Green Seedless, Organic Lemon, Sparkling Water Berry, Original Veggie Straws, Brussels Sprouts, Mandarin Oranges, Roma Tomato, Organic Avocado, Total 2% Lowfat Greek Strained Yogurt with Peach, Vanilla Skyr Nonfat Yogurt, Eggo Homestyle Waffles, Sour Cream, Sparkling Water Grapefruit, Macaroni & Cheese, Peach Pear Flavored Sparkling Water, Fresh Ginger Root, Half & Half, Total 0% Nonfat Greek Yogurt, Red Raspberries, Total 2% All Natural Low Fat 2% Milkfat Greek Strained Yogurt, Raspberries, Strawberry Preserves, Organic Baby Spinach Salad, Oven Roasted Turkey Breast, Vanilla Almond Breeze Almond Milk, Cucumber Kirby, Original No Pulp 100% Florida Orange Juice, Baby Spinach, Mini Original Babybel Cheese, Garlic, Organic Hass Avocado, Marinara Sauce, Vine Ripe Tomatoes, Sharp Cheddar Cheese, Organic Italian Parsley Bunch, Organic Fat Free Milk, Organic Garbanzo Beans, ...]  "
            ]
          },
          "metadata": {},
          "execution_count": 42
        }
      ]
    },
    {
      "cell_type": "markdown",
      "metadata": {
        "id": "ZM4sPjJ6ZLaz"
      },
      "source": [
        "### Conclusion\n",
        "- Based on the FP growth model, we found out that most of the customers tend to buy `Oragnic bananas` they have bought any organic items in the past. This is evident from the confidence value of the model which is above 50%.\n",
        "- From above result which is actual items purchased versus predicted items, we can see that the `Organic Bananas` are present in the above result\n",
        "- This prediction model is the best one so far since it provides customer with a list full of items, but the accuracy for this model may be less when calculated when compared to others."
      ]
    }
  ]
}